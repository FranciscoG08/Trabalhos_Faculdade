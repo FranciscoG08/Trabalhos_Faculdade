{
 "cells": [
  {
   "cell_type": "markdown",
   "metadata": {},
   "source": [
    "# 1) Importar o DataSet"
   ]
  },
  {
   "cell_type": "code",
   "execution_count": 388,
   "metadata": {},
   "outputs": [],
   "source": [
    "import pandas as pd\n",
    "df = pd.read_csv(\"dataset.csv\")"
   ]
  },
  {
   "cell_type": "markdown",
   "metadata": {},
   "source": [
    "# 2)Analisar o DataSet"
   ]
  },
  {
   "cell_type": "code",
   "execution_count": 389,
   "metadata": {},
   "outputs": [
    {
     "data": {
      "text/html": [
       "<div>\n",
       "<style scoped>\n",
       "    .dataframe tbody tr th:only-of-type {\n",
       "        vertical-align: middle;\n",
       "    }\n",
       "\n",
       "    .dataframe tbody tr th {\n",
       "        vertical-align: top;\n",
       "    }\n",
       "\n",
       "    .dataframe thead th {\n",
       "        text-align: right;\n",
       "    }\n",
       "</style>\n",
       "<table border=\"1\" class=\"dataframe\">\n",
       "  <thead>\n",
       "    <tr style=\"text-align: right;\">\n",
       "      <th></th>\n",
       "      <th>genero</th>\n",
       "      <th>estado_civil</th>\n",
       "      <th>zona_residencia</th>\n",
       "      <th>imc</th>\n",
       "      <th>fumador</th>\n",
       "      <th>class_etaria</th>\n",
       "      <th>custo</th>\n",
       "    </tr>\n",
       "  </thead>\n",
       "  <tbody>\n",
       "    <tr>\n",
       "      <th>2201</th>\n",
       "      <td>masculino</td>\n",
       "      <td>solteiro</td>\n",
       "      <td>suburbana</td>\n",
       "      <td>29.2</td>\n",
       "      <td>sim</td>\n",
       "      <td>adulto_jovem</td>\n",
       "      <td>7877.4</td>\n",
       "    </tr>\n",
       "    <tr>\n",
       "      <th>898</th>\n",
       "      <td>feminino</td>\n",
       "      <td>solteiro</td>\n",
       "      <td>urbana</td>\n",
       "      <td>37.3</td>\n",
       "      <td>nao</td>\n",
       "      <td>adulto_senior</td>\n",
       "      <td>4159.5</td>\n",
       "    </tr>\n",
       "    <tr>\n",
       "      <th>1378</th>\n",
       "      <td>masculino</td>\n",
       "      <td>casado</td>\n",
       "      <td>suburbana</td>\n",
       "      <td>52.6</td>\n",
       "      <td>sim</td>\n",
       "      <td>jovem</td>\n",
       "      <td>19206.5</td>\n",
       "    </tr>\n",
       "    <tr>\n",
       "      <th>483</th>\n",
       "      <td>masculino</td>\n",
       "      <td>separado</td>\n",
       "      <td>urbana</td>\n",
       "      <td>37.4</td>\n",
       "      <td>nao</td>\n",
       "      <td>adulto_senior</td>\n",
       "      <td>8908.5</td>\n",
       "    </tr>\n",
       "  </tbody>\n",
       "</table>\n",
       "</div>"
      ],
      "text/plain": [
       "         genero estado_civil zona_residencia   imc fumador   class_etaria  \\\n",
       "2201  masculino     solteiro       suburbana  29.2     sim   adulto_jovem   \n",
       "898    feminino     solteiro          urbana  37.3     nao  adulto_senior   \n",
       "1378  masculino       casado       suburbana  52.6     sim          jovem   \n",
       "483   masculino     separado          urbana  37.4     nao  adulto_senior   \n",
       "\n",
       "        custo  \n",
       "2201   7877.4  \n",
       "898    4159.5  \n",
       "1378  19206.5  \n",
       "483    8908.5  "
      ]
     },
     "execution_count": 389,
     "metadata": {},
     "output_type": "execute_result"
    }
   ],
   "source": [
    "df.sample(4) #Primeira visao do data set"
   ]
  },
  {
   "cell_type": "code",
   "execution_count": 390,
   "metadata": {},
   "outputs": [
    {
     "name": "stdout",
     "output_type": "stream",
     "text": [
      "<class 'pandas.core.frame.DataFrame'>\n",
      "RangeIndex: 2215 entries, 0 to 2214\n",
      "Data columns (total 7 columns):\n",
      " #   Column           Non-Null Count  Dtype  \n",
      "---  ------           --------------  -----  \n",
      " 0   genero           2215 non-null   object \n",
      " 1   estado_civil     2215 non-null   object \n",
      " 2   zona_residencia  2215 non-null   object \n",
      " 3   imc              2215 non-null   float64\n",
      " 4   fumador          2215 non-null   object \n",
      " 5   class_etaria     2215 non-null   object \n",
      " 6   custo            2215 non-null   float64\n",
      "dtypes: float64(2), object(5)\n",
      "memory usage: 121.3+ KB\n"
     ]
    }
   ],
   "source": [
    "df.info()"
   ]
  },
  {
   "cell_type": "code",
   "execution_count": 391,
   "metadata": {},
   "outputs": [
    {
     "data": {
      "text/plain": [
       "(2215, 7)"
      ]
     },
     "execution_count": 391,
     "metadata": {},
     "output_type": "execute_result"
    }
   ],
   "source": [
    "df.shape"
   ]
  },
  {
   "cell_type": "code",
   "execution_count": 392,
   "metadata": {},
   "outputs": [
    {
     "data": {
      "text/html": [
       "<div>\n",
       "<style scoped>\n",
       "    .dataframe tbody tr th:only-of-type {\n",
       "        vertical-align: middle;\n",
       "    }\n",
       "\n",
       "    .dataframe tbody tr th {\n",
       "        vertical-align: top;\n",
       "    }\n",
       "\n",
       "    .dataframe thead th {\n",
       "        text-align: right;\n",
       "    }\n",
       "</style>\n",
       "<table border=\"1\" class=\"dataframe\">\n",
       "  <thead>\n",
       "    <tr style=\"text-align: right;\">\n",
       "      <th></th>\n",
       "      <th>imc</th>\n",
       "      <th>custo</th>\n",
       "    </tr>\n",
       "  </thead>\n",
       "  <tbody>\n",
       "    <tr>\n",
       "      <th>count</th>\n",
       "      <td>2215.000000</td>\n",
       "      <td>2215.000000</td>\n",
       "    </tr>\n",
       "    <tr>\n",
       "      <th>mean</th>\n",
       "      <td>30.704199</td>\n",
       "      <td>6045.710971</td>\n",
       "    </tr>\n",
       "    <tr>\n",
       "      <th>std</th>\n",
       "      <td>6.425918</td>\n",
       "      <td>8354.316703</td>\n",
       "    </tr>\n",
       "    <tr>\n",
       "      <th>min</th>\n",
       "      <td>3.400000</td>\n",
       "      <td>487.200000</td>\n",
       "    </tr>\n",
       "    <tr>\n",
       "      <th>25%</th>\n",
       "      <td>26.150000</td>\n",
       "      <td>2042.200000</td>\n",
       "    </tr>\n",
       "    <tr>\n",
       "      <th>50%</th>\n",
       "      <td>30.400000</td>\n",
       "      <td>4050.700000</td>\n",
       "    </tr>\n",
       "    <tr>\n",
       "      <th>75%</th>\n",
       "      <td>34.700000</td>\n",
       "      <td>7176.300000</td>\n",
       "    </tr>\n",
       "    <tr>\n",
       "      <th>max</th>\n",
       "      <td>83.100000</td>\n",
       "      <td>180544.400000</td>\n",
       "    </tr>\n",
       "  </tbody>\n",
       "</table>\n",
       "</div>"
      ],
      "text/plain": [
       "               imc          custo\n",
       "count  2215.000000    2215.000000\n",
       "mean     30.704199    6045.710971\n",
       "std       6.425918    8354.316703\n",
       "min       3.400000     487.200000\n",
       "25%      26.150000    2042.200000\n",
       "50%      30.400000    4050.700000\n",
       "75%      34.700000    7176.300000\n",
       "max      83.100000  180544.400000"
      ]
     },
     "execution_count": 392,
     "metadata": {},
     "output_type": "execute_result"
    }
   ],
   "source": [
    "df.describe() #Já é possivel imaginar possiveis outliers"
   ]
  },
  {
   "cell_type": "code",
   "execution_count": 393,
   "metadata": {},
   "outputs": [],
   "source": [
    "import seaborn as sns\n",
    "import matplotlib.pyplot as plt"
   ]
  },
  {
   "cell_type": "markdown",
   "metadata": {},
   "source": [
    "BoxPlot -> Destaca os valores extremos (Outliers)"
   ]
  },
  {
   "cell_type": "code",
   "execution_count": 394,
   "metadata": {},
   "outputs": [
    {
     "data": {
      "image/png": "[encoded data removed]",
      "text/plain": [
       "<Figure size 1200x600 with 3 Axes>"
      ]
     },
     "metadata": {},
     "output_type": "display_data"
    }
   ],
   "source": [
    "plt.figure(figsize=(12, 6))\n",
    "plt.title(\"Ver os Outliers de IMC e Custo\\n\\n\")\n",
    "\n",
    "plt.subplot(1, 2, 1)\n",
    "sns.boxplot(data=df, y='imc', color='skyblue')\n",
    "plt.title('Outliers do IMC')\n",
    "plt.ylabel('IMC')\n",
    "\n",
    "plt.subplot(1, 2, 2)\n",
    "sns.boxplot(data=df, y='custo', color='lightcoral')\n",
    "plt.title('Outliers do Custo')\n",
    "plt.ylabel('Custo')\n",
    "\n",
    "# Exibir o gráfico\n",
    "plt.tight_layout()\n",
    "plt.show()"
   ]
  },
  {
   "cell_type": "markdown",
   "metadata": {},
   "source": [
    "Histogramas -> Distribuiçao dos valores"
   ]
  },
  {
   "cell_type": "code",
   "execution_count": 395,
   "metadata": {},
   "outputs": [
    {
     "data": {
      "image/png": "[encoded data removed]",
      "text/plain": [
       "<Figure size 1200x600 with 2 Axes>"
      ]
     },
     "metadata": {},
     "output_type": "display_data"
    }
   ],
   "source": [
    "plt.figure(figsize=(12, 6))\n",
    "\n",
    "# Histograma para 'imc'\n",
    "plt.subplot(1, 2, 1)\n",
    "sns.histplot(df['imc'], bins=30, kde=True, color='skyblue')\n",
    "plt.title('Distribuição do IMC')\n",
    "plt.xlabel('IMC')\n",
    "plt.ylabel('Frequência')\n",
    "\n",
    "# Histograma para 'custo'\n",
    "plt.subplot(1, 2, 2)\n",
    "sns.histplot(df['custo'], bins=30, kde=True, color='lightcoral')\n",
    "plt.title('Distribuição do Custo')\n",
    "plt.xlabel('Custo')\n",
    "plt.ylabel('Frequência')\n",
    "\n",
    "# Exibir o gráfico\n",
    "plt.tight_layout()\n",
    "plt.show()"
   ]
  },
  {
   "cell_type": "markdown",
   "metadata": {},
   "source": [
    "Conclui-se que deve-se aplicar o método Tukey Fences ou método Z-score."
   ]
  },
  {
   "cell_type": "markdown",
   "metadata": {},
   "source": [
    "# 3) Pré-Processamento"
   ]
  },
  {
   "cell_type": "code",
   "execution_count": 396,
   "metadata": {},
   "outputs": [
    {
     "name": "stdout",
     "output_type": "stream",
     "text": [
      "genero             0\n",
      "estado_civil       0\n",
      "zona_residencia    0\n",
      "imc                0\n",
      "fumador            0\n",
      "class_etaria       0\n",
      "custo              0\n",
      "dtype: int64\n"
     ]
    }
   ],
   "source": [
    "print(df.isnull().sum())  # Verificar valores nulos\n",
    "df.drop_duplicates(keep='first',inplace=True) #Eliminar valores duplicados caso existam"
   ]
  },
  {
   "cell_type": "markdown",
   "metadata": {},
   "source": [
    "Foi usado o metodo Tukey Fences pois apresentou menos outliers"
   ]
  },
  {
   "cell_type": "code",
   "execution_count": 397,
   "metadata": {},
   "outputs": [
    {
     "name": "stdout",
     "output_type": "stream",
     "text": [
      "Limite inferior (1.5 * IQR) para 'imc':  13.262499999999996\n",
      "Limite superior (1.5 * IQR) para 'imc':  47.56250000000001\n"
     ]
    }
   ],
   "source": [
    "# Calcular os quartis Q1 e Q3 para 'imc'\n",
    "Q1_imc = df['imc'].quantile(0.25)\n",
    "Q3_imc = df['imc'].quantile(0.75)\n",
    "\n",
    "# Calcular o IQR (intervalo interquartil) para 'imc'\n",
    "IQR_imc = Q3_imc - Q1_imc\n",
    "\n",
    "# Fatores para os limites de Tukey Fences\n",
    "fator_1_5 = 1.5  # Limites moderados (padrão)\n",
    "\n",
    "# Limites de Tukey Fences para 'imc'\n",
    "limite_inferior = Q1_imc - fator_1_5 * IQR_imc\n",
    "limite_superior = Q3_imc + fator_1_5 * IQR_imc\n",
    "\n",
    "# Exibir os limites calculados\n",
    "print(\"Limite inferior (1.5 * IQR) para 'imc': \", limite_inferior)\n",
    "print(\"Limite superior (1.5 * IQR) para 'imc': \", limite_superior)"
   ]
  },
  {
   "cell_type": "code",
   "execution_count": 398,
   "metadata": {},
   "outputs": [
    {
     "name": "stdout",
     "output_type": "stream",
     "text": [
      "Quantidade de outliers em 'imc' a ser eliminada:  18\n",
      "       imc\n",
      "320   67.8\n",
      "355    4.6\n",
      "564   47.7\n",
      "711   47.6\n",
      "727   83.1\n",
      "755   50.2\n",
      "762   53.2\n",
      "936   48.3\n",
      "1059   5.3\n",
      "1083  47.6\n",
      "1378  52.6\n",
      "1494   6.7\n",
      "1611  49.1\n",
      "1739  47.9\n",
      "1773  70.3\n",
      "1823   3.4\n",
      "2049  47.6\n",
      "2092  53.1\n"
     ]
    }
   ],
   "source": [
    "# outliers no 'imc'\n",
    "outliers_imc = df[(df['imc'] < limite_inferior) | (df['imc'] > limite_superior)]\n",
    "\n",
    "print(\"Quantidade de outliers em 'imc' a ser eliminada: \",outliers_imc.shape[0])\n",
    "print(outliers_imc[['imc']]) "
   ]
  },
  {
   "cell_type": "code",
   "execution_count": 399,
   "metadata": {},
   "outputs": [],
   "source": [
    "# Filtrando o DataFrame para remover os outliers com base nos limites de Tukey Fences\n",
    "df = df[(df['imc'] >= limite_inferior) & (df['imc'] <= limite_superior)]"
   ]
  },
  {
   "cell_type": "code",
   "execution_count": 400,
   "metadata": {},
   "outputs": [
    {
     "data": {
      "text/plain": [
       "<Axes: ylabel='imc'>"
      ]
     },
     "execution_count": 400,
     "metadata": {},
     "output_type": "execute_result"
    },
    {
     "data": {
      "image/png": "[encoded data removed]",
      "text/plain": [
       "<Figure size 640x480 with 1 Axes>"
      ]
     },
     "metadata": {},
     "output_type": "display_data"
    }
   ],
   "source": [
    "sns.boxplot(data=df['imc']) #Hum temos claramente muitos valores discrepantes (Outliers)"
   ]
  },
  {
   "cell_type": "markdown",
   "metadata": {},
   "source": [
    "custo"
   ]
  },
  {
   "cell_type": "code",
   "execution_count": 401,
   "metadata": {},
   "outputs": [
    {
     "name": "stdout",
     "output_type": "stream",
     "text": [
      "Limite inferior (1.5 * IQR): -3094.0249999999996\n",
      "Limite superior (1.5 * IQR): 12337.675\n"
     ]
    }
   ],
   "source": [
    "Q1 = df['custo'].quantile(0.25)\n",
    "Q3 = df['custo'].quantile(0.75)\n",
    "\n",
    "IQR = Q3 - Q1\n",
    "\n",
    "fator_07 = 1 #Aumentar Restriçao, para ajudar a remover mais valores extremos, o valor 1 parece o mais equilibrado\n",
    "\n",
    "limite_inferior = Q1 - fator_07 * IQR\n",
    "limite_superior = Q3 + fator_07 * IQR\n",
    "\n",
    "# Exibir os novos limites\n",
    "print(f\"Limite inferior (1.5 * IQR): {limite_inferior}\")\n",
    "print(f\"Limite superior (1.5 * IQR): {limite_superior}\")"
   ]
  },
  {
   "cell_type": "code",
   "execution_count": 402,
   "metadata": {},
   "outputs": [
    {
     "name": "stdout",
     "output_type": "stream",
     "text": [
      "Quantidade de outliers em 'custo' a ser eliminada:  282\n",
      "        custo\n",
      "0     18213.9\n",
      "5     14446.9\n",
      "6     20404.7\n",
      "11    18543.3\n",
      "18    13854.3\n",
      "...       ...\n",
      "2142  18959.9\n",
      "2154  20113.6\n",
      "2166  17141.7\n",
      "2181  18184.0\n",
      "2195  18808.3\n",
      "\n",
      "[282 rows x 1 columns]\n"
     ]
    }
   ],
   "source": [
    "# outliers no 'custo'\n",
    "outliers_custo = df[(df['custo'] < limite_inferior) | (df['custo'] > limite_superior)]\n",
    "\n",
    "print(\"Quantidade de outliers em 'custo' a ser eliminada: \",outliers_custo.shape[0])\n",
    "print(outliers_custo[['custo']]) "
   ]
  },
  {
   "cell_type": "code",
   "execution_count": 403,
   "metadata": {},
   "outputs": [],
   "source": [
    "# Eliminar os outliers de custo\n",
    "df = df[(df['custo'] >= limite_inferior) & (df['custo'] <= limite_superior)]"
   ]
  },
  {
   "cell_type": "code",
   "execution_count": 404,
   "metadata": {},
   "outputs": [
    {
     "name": "stdout",
     "output_type": "stream",
     "text": [
      "1124    12291.4\n",
      "415     12291.3\n",
      "37      12288.7\n",
      "256     12285.0\n",
      "Name: custo, dtype: float64\n",
      "1842    487.2\n",
      "215     487.3\n",
      "2196    487.5\n",
      "877     490.1\n",
      "Name: custo, dtype: float64\n"
     ]
    }
   ],
   "source": [
    "df_ordenado_asc = df.sort_values(by='custo', ascending=False)\n",
    "df_ordenado_des = df.sort_values(by='custo', ascending=True)\n",
    "print(df_ordenado_asc['custo'].head(4)) # Novos valores mais altos\n",
    "print(df_ordenado_des['custo'].head(4)) # Novos valores mais baixos"
   ]
  },
  {
   "cell_type": "code",
   "execution_count": 405,
   "metadata": {},
   "outputs": [
    {
     "data": {
      "text/plain": [
       "<Axes: ylabel='custo'>"
      ]
     },
     "execution_count": 405,
     "metadata": {},
     "output_type": "execute_result"
    },
    {
     "data": {
      "image/png": "[encoded data removed]",
      "text/plain": [
       "<Figure size 640x480 with 1 Axes>"
      ]
     },
     "metadata": {},
     "output_type": "display_data"
    }
   ],
   "source": [
    "sns.boxplot(data=df['custo'])"
   ]
  },
  {
   "cell_type": "markdown",
   "metadata": {},
   "source": [
    "Melhor visto que vamos aplicar o algoritmo SVM nao devemos ter valores extremos muito distantes."
   ]
  },
  {
   "cell_type": "code",
   "execution_count": 406,
   "metadata": {},
   "outputs": [
    {
     "data": {
      "text/plain": [
       "(1914, 7)"
      ]
     },
     "execution_count": 406,
     "metadata": {},
     "output_type": "execute_result"
    }
   ],
   "source": [
    "df.shape"
   ]
  },
  {
   "cell_type": "markdown",
   "metadata": {},
   "source": [
    "Perda de 13.6% do dataset original"
   ]
  },
  {
   "cell_type": "markdown",
   "metadata": {},
   "source": [
    "# 4) Transformaçao"
   ]
  },
  {
   "cell_type": "markdown",
   "metadata": {},
   "source": [
    "Tratar das variaveis categoricas"
   ]
  },
  {
   "cell_type": "code",
   "execution_count": null,
   "metadata": {},
   "outputs": [],
   "source": []
  },
  {
   "cell_type": "code",
   "execution_count": 407,
   "metadata": {},
   "outputs": [],
   "source": [
    "from sklearn.preprocessing import LabelEncoder\n",
    "#estado civil\n",
    "df_new = df.copy()\n",
    "\n",
    "le = LabelEncoder()\n",
    "# Estado Civil\n",
    "le.fit(df_new.estado_civil.drop_duplicates()) \n",
    "df_new.estado_civil = le.transform(df_new.estado_civil)\n",
    "# Fumador\n",
    "le.fit(df_new.fumador.drop_duplicates()) \n",
    "df_new.fumador = le.transform(df_new.fumador)\n",
    "# Regiao\n",
    "le.fit(df_new.zona_residencia.drop_duplicates()) \n",
    "df_new.zona_residencia = le.transform(df_new.zona_residencia)\n",
    "# Classe Etaria\t\n",
    "le.fit(df_new.class_etaria.drop_duplicates()) \n",
    "df_new.class_etaria = le.transform(df_new.class_etaria)\n",
    "# Genero\n",
    "le.fit(df_new.genero.drop_duplicates()) \n",
    "df_new.genero = le.transform(df_new.genero)"
   ]
  },
  {
   "cell_type": "code",
   "execution_count": 408,
   "metadata": {},
   "outputs": [
    {
     "data": {
      "text/html": [
       "<div>\n",
       "<style scoped>\n",
       "    .dataframe tbody tr th:only-of-type {\n",
       "        vertical-align: middle;\n",
       "    }\n",
       "\n",
       "    .dataframe tbody tr th {\n",
       "        vertical-align: top;\n",
       "    }\n",
       "\n",
       "    .dataframe thead th {\n",
       "        text-align: right;\n",
       "    }\n",
       "</style>\n",
       "<table border=\"1\" class=\"dataframe\">\n",
       "  <thead>\n",
       "    <tr style=\"text-align: right;\">\n",
       "      <th></th>\n",
       "      <th>genero</th>\n",
       "      <th>estado_civil</th>\n",
       "      <th>zona_residencia</th>\n",
       "      <th>imc</th>\n",
       "      <th>fumador</th>\n",
       "      <th>class_etaria</th>\n",
       "      <th>custo</th>\n",
       "    </tr>\n",
       "  </thead>\n",
       "  <tbody>\n",
       "    <tr>\n",
       "      <th>1</th>\n",
       "      <td>0</td>\n",
       "      <td>1</td>\n",
       "      <td>2</td>\n",
       "      <td>39.3</td>\n",
       "      <td>0</td>\n",
       "      <td>3</td>\n",
       "      <td>4266.4</td>\n",
       "    </tr>\n",
       "    <tr>\n",
       "      <th>2</th>\n",
       "      <td>1</td>\n",
       "      <td>2</td>\n",
       "      <td>0</td>\n",
       "      <td>40.7</td>\n",
       "      <td>0</td>\n",
       "      <td>5</td>\n",
       "      <td>854.6</td>\n",
       "    </tr>\n",
       "    <tr>\n",
       "      <th>3</th>\n",
       "      <td>1</td>\n",
       "      <td>0</td>\n",
       "      <td>2</td>\n",
       "      <td>28.2</td>\n",
       "      <td>1</td>\n",
       "      <td>2</td>\n",
       "      <td>10169.7</td>\n",
       "    </tr>\n",
       "    <tr>\n",
       "      <th>4</th>\n",
       "      <td>0</td>\n",
       "      <td>2</td>\n",
       "      <td>2</td>\n",
       "      <td>31.1</td>\n",
       "      <td>0</td>\n",
       "      <td>3</td>\n",
       "      <td>4151.5</td>\n",
       "    </tr>\n",
       "    <tr>\n",
       "      <th>7</th>\n",
       "      <td>1</td>\n",
       "      <td>3</td>\n",
       "      <td>0</td>\n",
       "      <td>37.0</td>\n",
       "      <td>0</td>\n",
       "      <td>4</td>\n",
       "      <td>5501.2</td>\n",
       "    </tr>\n",
       "  </tbody>\n",
       "</table>\n",
       "</div>"
      ],
      "text/plain": [
       "   genero  estado_civil  zona_residencia   imc  fumador  class_etaria    custo\n",
       "1       0             1                2  39.3        0             3   4266.4\n",
       "2       1             2                0  40.7        0             5    854.6\n",
       "3       1             0                2  28.2        1             2  10169.7\n",
       "4       0             2                2  31.1        0             3   4151.5\n",
       "7       1             3                0  37.0        0             4   5501.2"
      ]
     },
     "execution_count": 408,
     "metadata": {},
     "output_type": "execute_result"
    }
   ],
   "source": [
    "df_new.head()"
   ]
  },
  {
   "cell_type": "code",
   "execution_count": 409,
   "metadata": {},
   "outputs": [
    {
     "name": "stdout",
     "output_type": "stream",
     "text": [
      "estado_civil      -0.310375\n",
      "imc               -0.071752\n",
      "zona_residencia   -0.065451\n",
      "genero            -0.028395\n",
      "class_etaria       0.196297\n",
      "fumador            0.545519\n",
      "custo              1.000000\n",
      "Name: custo, dtype: float64\n"
     ]
    }
   ],
   "source": [
    "correlacao = df_new.corr()\n",
    "\n",
    "# Exibir a correlação das variáveis com o custo\n",
    "correlacao_com_custo = correlacao['custo'].sort_values()\n",
    "\n",
    "# Exibir os resultados\n",
    "print(correlacao_com_custo)"
   ]
  },
  {
   "cell_type": "code",
   "execution_count": 415,
   "metadata": {},
   "outputs": [
    {
     "data": {
      "image/png": "[encoded data removed]",
      "text/plain": [
       "<Figure size 640x480 with 1 Axes>"
      ]
     },
     "metadata": {},
     "output_type": "display_data"
    }
   ],
   "source": [
    "sns.boxplot(x=df_new['imc'])\n",
    "plt.show()"
   ]
  },
  {
   "cell_type": "code",
   "execution_count": 410,
   "metadata": {},
   "outputs": [
    {
     "data": {
      "text/html": [
       "<div>\n",
       "<style scoped>\n",
       "    .dataframe tbody tr th:only-of-type {\n",
       "        vertical-align: middle;\n",
       "    }\n",
       "\n",
       "    .dataframe tbody tr th {\n",
       "        vertical-align: top;\n",
       "    }\n",
       "\n",
       "    .dataframe thead th {\n",
       "        text-align: right;\n",
       "    }\n",
       "</style>\n",
       "<table border=\"1\" class=\"dataframe\">\n",
       "  <thead>\n",
       "    <tr style=\"text-align: right;\">\n",
       "      <th></th>\n",
       "      <th>genero</th>\n",
       "      <th>estado_civil</th>\n",
       "      <th>zona_residencia</th>\n",
       "      <th>imc</th>\n",
       "      <th>fumador</th>\n",
       "      <th>class_etaria</th>\n",
       "      <th>custo</th>\n",
       "    </tr>\n",
       "  </thead>\n",
       "  <tbody>\n",
       "    <tr>\n",
       "      <th>count</th>\n",
       "      <td>1914.000000</td>\n",
       "      <td>1914.000000</td>\n",
       "      <td>1914.000000</td>\n",
       "      <td>1914.000000</td>\n",
       "      <td>1914.000000</td>\n",
       "      <td>1914.000000</td>\n",
       "      <td>1914.000000</td>\n",
       "    </tr>\n",
       "    <tr>\n",
       "      <th>mean</th>\n",
       "      <td>0.490596</td>\n",
       "      <td>1.248171</td>\n",
       "      <td>1.256531</td>\n",
       "      <td>30.066562</td>\n",
       "      <td>0.096656</td>\n",
       "      <td>2.238245</td>\n",
       "      <td>4049.654180</td>\n",
       "    </tr>\n",
       "    <tr>\n",
       "      <th>std</th>\n",
       "      <td>0.500042</td>\n",
       "      <td>1.022261</td>\n",
       "      <td>0.822146</td>\n",
       "      <td>5.995733</td>\n",
       "      <td>0.295566</td>\n",
       "      <td>1.441916</td>\n",
       "      <td>2777.337593</td>\n",
       "    </tr>\n",
       "    <tr>\n",
       "      <th>min</th>\n",
       "      <td>0.000000</td>\n",
       "      <td>0.000000</td>\n",
       "      <td>0.000000</td>\n",
       "      <td>15.700000</td>\n",
       "      <td>0.000000</td>\n",
       "      <td>0.000000</td>\n",
       "      <td>487.200000</td>\n",
       "    </tr>\n",
       "    <tr>\n",
       "      <th>25%</th>\n",
       "      <td>0.000000</td>\n",
       "      <td>0.000000</td>\n",
       "      <td>1.000000</td>\n",
       "      <td>25.600000</td>\n",
       "      <td>0.000000</td>\n",
       "      <td>1.000000</td>\n",
       "      <td>1873.525000</td>\n",
       "    </tr>\n",
       "    <tr>\n",
       "      <th>50%</th>\n",
       "      <td>0.000000</td>\n",
       "      <td>2.000000</td>\n",
       "      <td>1.000000</td>\n",
       "      <td>29.700000</td>\n",
       "      <td>0.000000</td>\n",
       "      <td>2.000000</td>\n",
       "      <td>3548.850000</td>\n",
       "    </tr>\n",
       "    <tr>\n",
       "      <th>75%</th>\n",
       "      <td>1.000000</td>\n",
       "      <td>2.000000</td>\n",
       "      <td>2.000000</td>\n",
       "      <td>34.000000</td>\n",
       "      <td>0.000000</td>\n",
       "      <td>3.000000</td>\n",
       "      <td>5433.925000</td>\n",
       "    </tr>\n",
       "    <tr>\n",
       "      <th>max</th>\n",
       "      <td>1.000000</td>\n",
       "      <td>3.000000</td>\n",
       "      <td>2.000000</td>\n",
       "      <td>47.500000</td>\n",
       "      <td>1.000000</td>\n",
       "      <td>5.000000</td>\n",
       "      <td>12291.400000</td>\n",
       "    </tr>\n",
       "  </tbody>\n",
       "</table>\n",
       "</div>"
      ],
      "text/plain": [
       "            genero  estado_civil  zona_residencia          imc      fumador  \\\n",
       "count  1914.000000   1914.000000      1914.000000  1914.000000  1914.000000   \n",
       "mean      0.490596      1.248171         1.256531    30.066562     0.096656   \n",
       "std       0.500042      1.022261         0.822146     5.995733     0.295566   \n",
       "min       0.000000      0.000000         0.000000    15.700000     0.000000   \n",
       "25%       0.000000      0.000000         1.000000    25.600000     0.000000   \n",
       "50%       0.000000      2.000000         1.000000    29.700000     0.000000   \n",
       "75%       1.000000      2.000000         2.000000    34.000000     0.000000   \n",
       "max       1.000000      3.000000         2.000000    47.500000     1.000000   \n",
       "\n",
       "       class_etaria         custo  \n",
       "count   1914.000000   1914.000000  \n",
       "mean       2.238245   4049.654180  \n",
       "std        1.441916   2777.337593  \n",
       "min        0.000000    487.200000  \n",
       "25%        1.000000   1873.525000  \n",
       "50%        2.000000   3548.850000  \n",
       "75%        3.000000   5433.925000  \n",
       "max        5.000000  12291.400000  "
      ]
     },
     "execution_count": 410,
     "metadata": {},
     "output_type": "execute_result"
    }
   ],
   "source": [
    "df_new.describe()"
   ]
  },
  {
   "cell_type": "code",
   "execution_count": 411,
   "metadata": {},
   "outputs": [
    {
     "data": {
      "image/png": "[encoded data removed]",
      "text/plain": [
       "<Figure size 1000x800 with 2 Axes>"
      ]
     },
     "metadata": {},
     "output_type": "display_data"
    }
   ],
   "source": [
    "corr_matrix = df_new.corr()\n",
    "plt.figure(figsize=(10, 8))\n",
    "sns.heatmap(corr_matrix, annot=True, fmt=\".2f\", cmap=\"viridis\", cbar=True)\n",
    "plt.title(\"Heatmap de Correlação\")\n",
    "plt.show()"
   ]
  },
  {
   "cell_type": "code",
   "execution_count": 412,
   "metadata": {},
   "outputs": [],
   "source": [
    "X = df_new.drop('custo', axis=1)  # Substitua 'target' pelo nome da sua variável dependente\n",
    "y = df_new['custo']  # Variável dependente"
   ]
  },
  {
   "cell_type": "code",
   "execution_count": 413,
   "metadata": {},
   "outputs": [],
   "source": [
    "from sklearn.model_selection import train_test_split\n",
    "Xtreino,Xteste,ytreino,yteste = train_test_split(X,y,test_size=0.2,random_state=12)"
   ]
  },
  {
   "cell_type": "code",
   "execution_count": 414,
   "metadata": {},
   "outputs": [
    {
     "data": {
      "text/plain": [
       "-0.03156442969495332"
      ]
     },
     "execution_count": 414,
     "metadata": {},
     "output_type": "execute_result"
    }
   ],
   "source": [
    "from sklearn.svm import SVR\n",
    "modelo = SVR()\n",
    "modelo.fit(Xtreino, ytreino) \n",
    "modelo.score(Xteste,yteste)"
   ]
  },
  {
   "cell_type": "code",
   "execution_count": 416,
   "metadata": {},
   "outputs": [
    {
     "data": {
      "text/html": [
       "<div>\n",
       "<style scoped>\n",
       "    .dataframe tbody tr th:only-of-type {\n",
       "        vertical-align: middle;\n",
       "    }\n",
       "\n",
       "    .dataframe tbody tr th {\n",
       "        vertical-align: top;\n",
       "    }\n",
       "\n",
       "    .dataframe thead th {\n",
       "        text-align: right;\n",
       "    }\n",
       "</style>\n",
       "<table border=\"1\" class=\"dataframe\">\n",
       "  <thead>\n",
       "    <tr style=\"text-align: right;\">\n",
       "      <th></th>\n",
       "      <th>genero</th>\n",
       "      <th>estado_civil</th>\n",
       "      <th>zona_residencia</th>\n",
       "      <th>imc</th>\n",
       "      <th>fumador</th>\n",
       "      <th>class_etaria</th>\n",
       "    </tr>\n",
       "  </thead>\n",
       "  <tbody>\n",
       "    <tr>\n",
       "      <th>1068</th>\n",
       "      <td>0</td>\n",
       "      <td>1</td>\n",
       "      <td>2</td>\n",
       "      <td>26.6</td>\n",
       "      <td>0</td>\n",
       "      <td>5</td>\n",
       "    </tr>\n",
       "    <tr>\n",
       "      <th>992</th>\n",
       "      <td>1</td>\n",
       "      <td>0</td>\n",
       "      <td>2</td>\n",
       "      <td>30.9</td>\n",
       "      <td>0</td>\n",
       "      <td>1</td>\n",
       "    </tr>\n",
       "    <tr>\n",
       "      <th>1283</th>\n",
       "      <td>1</td>\n",
       "      <td>0</td>\n",
       "      <td>2</td>\n",
       "      <td>24.5</td>\n",
       "      <td>0</td>\n",
       "      <td>2</td>\n",
       "    </tr>\n",
       "    <tr>\n",
       "      <th>1581</th>\n",
       "      <td>0</td>\n",
       "      <td>0</td>\n",
       "      <td>0</td>\n",
       "      <td>32.4</td>\n",
       "      <td>0</td>\n",
       "      <td>3</td>\n",
       "    </tr>\n",
       "    <tr>\n",
       "      <th>536</th>\n",
       "      <td>0</td>\n",
       "      <td>0</td>\n",
       "      <td>2</td>\n",
       "      <td>29.9</td>\n",
       "      <td>0</td>\n",
       "      <td>1</td>\n",
       "    </tr>\n",
       "    <tr>\n",
       "      <th>...</th>\n",
       "      <td>...</td>\n",
       "      <td>...</td>\n",
       "      <td>...</td>\n",
       "      <td>...</td>\n",
       "      <td>...</td>\n",
       "      <td>...</td>\n",
       "    </tr>\n",
       "    <tr>\n",
       "      <th>1471</th>\n",
       "      <td>0</td>\n",
       "      <td>0</td>\n",
       "      <td>1</td>\n",
       "      <td>23.7</td>\n",
       "      <td>0</td>\n",
       "      <td>2</td>\n",
       "    </tr>\n",
       "    <tr>\n",
       "      <th>1483</th>\n",
       "      <td>0</td>\n",
       "      <td>2</td>\n",
       "      <td>2</td>\n",
       "      <td>22.2</td>\n",
       "      <td>1</td>\n",
       "      <td>5</td>\n",
       "    </tr>\n",
       "    <tr>\n",
       "      <th>1641</th>\n",
       "      <td>0</td>\n",
       "      <td>1</td>\n",
       "      <td>1</td>\n",
       "      <td>27.8</td>\n",
       "      <td>1</td>\n",
       "      <td>2</td>\n",
       "    </tr>\n",
       "    <tr>\n",
       "      <th>1962</th>\n",
       "      <td>0</td>\n",
       "      <td>0</td>\n",
       "      <td>1</td>\n",
       "      <td>35.3</td>\n",
       "      <td>0</td>\n",
       "      <td>4</td>\n",
       "    </tr>\n",
       "    <tr>\n",
       "      <th>2165</th>\n",
       "      <td>0</td>\n",
       "      <td>2</td>\n",
       "      <td>0</td>\n",
       "      <td>33.7</td>\n",
       "      <td>0</td>\n",
       "      <td>3</td>\n",
       "    </tr>\n",
       "  </tbody>\n",
       "</table>\n",
       "<p>1531 rows × 6 columns</p>\n",
       "</div>"
      ],
      "text/plain": [
       "      genero  estado_civil  zona_residencia   imc  fumador  class_etaria\n",
       "1068       0             1                2  26.6        0             5\n",
       "992        1             0                2  30.9        0             1\n",
       "1283       1             0                2  24.5        0             2\n",
       "1581       0             0                0  32.4        0             3\n",
       "536        0             0                2  29.9        0             1\n",
       "...      ...           ...              ...   ...      ...           ...\n",
       "1471       0             0                1  23.7        0             2\n",
       "1483       0             2                2  22.2        1             5\n",
       "1641       0             1                1  27.8        1             2\n",
       "1962       0             0                1  35.3        0             4\n",
       "2165       0             2                0  33.7        0             3\n",
       "\n",
       "[1531 rows x 6 columns]"
      ]
     },
     "execution_count": 416,
     "metadata": {},
     "output_type": "execute_result"
    }
   ],
   "source": [
    "Xtreino"
   ]
  },
  {
   "cell_type": "code",
   "execution_count": null,
   "metadata": {},
   "outputs": [],
   "source": []
  }
 ],
 "metadata": {
  "kernelspec": {
   "display_name": "base",
   "language": "python",
   "name": "python3"
  },
  "language_info": {
   "codemirror_mode": {
    "name": "ipython",
    "version": 3
   },
   "file_extension": ".py",
   "mimetype": "text/x-python",
   "name": "python",
   "nbconvert_exporter": "python",
   "pygments_lexer": "ipython3",
   "version": "3.12.4"
  }
 },
 "nbformat": 4,
 "nbformat_minor": 2
}
